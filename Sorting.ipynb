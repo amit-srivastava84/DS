{
 "cells": [
  {
   "cell_type": "code",
   "execution_count": 1,
   "metadata": {},
   "outputs": [],
   "source": [
    "def bubbleSort(arr):\n",
    "    \n",
    "    for i in range(len(arr)-1,0,-1):\n",
    "        \n",
    "        for k in range(i):\n",
    "            if arr[k] > arr[k+1]:\n",
    "                temp = arr[k]\n",
    "                arr[k] = arr[k+1]\n",
    "                arr[k+1] = temp\n",
    "            \n",
    "    print(\"sorted arr is {}\".format(arr))"
   ]
  },
  {
   "cell_type": "code",
   "execution_count": 2,
   "metadata": {},
   "outputs": [],
   "source": [
    "arr= [3,7,1,9,3,10,4]"
   ]
  },
  {
   "cell_type": "code",
   "execution_count": 3,
   "metadata": {},
   "outputs": [
    {
     "name": "stdout",
     "output_type": "stream",
     "text": [
      "sorted arr is [1, 3, 3, 4, 7, 9, 10]\n"
     ]
    }
   ],
   "source": [
    "bubbleSort(arr)"
   ]
  },
  {
   "cell_type": "code",
   "execution_count": 4,
   "metadata": {},
   "outputs": [],
   "source": [
    "# find position of max number and place it in the end\n",
    "def selectionSort(arr):\n",
    "    \n",
    "    for i in range(len(arr)-1,0,-1):\n",
    "        positionMax = 0\n",
    "        for k in range(1,i+1):\n",
    "            if arr[k] > arr[positionMax]:\n",
    "                positionMax = k\n",
    "                \n",
    "        temp = arr[i]\n",
    "        arr[i]=arr[positionMax]\n",
    "        arr[positionMax]=temp\n",
    "        \n",
    "    print(\"sorted arr is {}\".format(arr))\n",
    "                "
   ]
  },
  {
   "cell_type": "code",
   "execution_count": 5,
   "metadata": {},
   "outputs": [
    {
     "name": "stdout",
     "output_type": "stream",
     "text": [
      "sorted arr is [1, 3, 3, 4, 7, 9, 10]\n"
     ]
    },
    {
     "data": {
      "text/plain": [
       "[1, 3, 3, 4, 7, 9, 10]"
      ]
     },
     "execution_count": 5,
     "metadata": {},
     "output_type": "execute_result"
    }
   ],
   "source": [
    "arr= [3,7,1,9,3,10,4]\n",
    "selectionSort(arr)\n",
    "arr"
   ]
  },
  {
   "cell_type": "code",
   "execution_count": 6,
   "metadata": {},
   "outputs": [],
   "source": [
    "# create 1 sublist and each subList is sorted\n",
    "def insertionSort(arr):\n",
    "    for i in range(1,len(arr)):\n",
    "        currentVal = arr[i]\n",
    "        position = i\n",
    "        \n",
    "        while position > 0 and arr[position-1] > currentVal:\n",
    "            arr[position] = arr[position -1]\n",
    "            position = position-1\n",
    "            \n",
    "        arr[position] = currentVal\n",
    "        \n",
    "    print(\"sorted arr is {}\".format(arr))"
   ]
  },
  {
   "cell_type": "code",
   "execution_count": 7,
   "metadata": {},
   "outputs": [
    {
     "name": "stdout",
     "output_type": "stream",
     "text": [
      "sorted arr is [1, 3, 3, 4, 7, 9, 10]\n"
     ]
    },
    {
     "data": {
      "text/plain": [
       "[1, 3, 3, 4, 7, 9, 10]"
      ]
     },
     "execution_count": 7,
     "metadata": {},
     "output_type": "execute_result"
    }
   ],
   "source": [
    "arr= [3,7,1,9,3,10,4]\n",
    "insertionSort(arr)\n",
    "arr"
   ]
  },
  {
   "cell_type": "code",
   "execution_count": 8,
   "metadata": {},
   "outputs": [],
   "source": [
    "def shellsort(arr):\n",
    "    gap = len(arr) // 2\n",
    "    \n",
    "    while gap > 0:\n",
    "        for start in range(gap):\n",
    "            gap_insertionsort(arr,start,gap)\n",
    "        print(\"After increments of size:{}\".format(gap))\n",
    "        print(\"arr is {}\".format(arr))\n",
    "        gap=gap// 2\n",
    "        \n",
    "    print(\"sorted arr is {}\".format(arr))\n",
    "    \n",
    "def gap_insertionsort(arr,start,gap):\n",
    "    for i in range(start+gap,len(arr),gap):\n",
    "        currentVal=arr[i]\n",
    "        position = i\n",
    "        \n",
    "        \n",
    "        while position >=gap and arr[position-gap] > currentVal:\n",
    "            \n",
    "            arr[position] = arr[position-gap]\n",
    "            position =position - gap\n",
    "            \n",
    "        arr[position] =currentVal"
   ]
  },
  {
   "cell_type": "code",
   "execution_count": 9,
   "metadata": {},
   "outputs": [
    {
     "name": "stdout",
     "output_type": "stream",
     "text": [
      "After increments of size:3\n",
      "arr is [3, 3, 1, 4, 7, 10, 9]\n",
      "After increments of size:1\n",
      "arr is [1, 3, 3, 4, 7, 9, 10]\n",
      "sorted arr is [1, 3, 3, 4, 7, 9, 10]\n"
     ]
    },
    {
     "data": {
      "text/plain": [
       "[1, 3, 3, 4, 7, 9, 10]"
      ]
     },
     "execution_count": 9,
     "metadata": {},
     "output_type": "execute_result"
    }
   ],
   "source": [
    "arr= [3,7,1,9,3,10,4]\n",
    "shellsort(arr)\n",
    "arr"
   ]
  },
  {
   "cell_type": "code",
   "execution_count": 10,
   "metadata": {},
   "outputs": [],
   "source": [
    "def mergesort(arr):\n",
    "    if len(arr) > 1:\n",
    "        mid = len(arr)// 2\n",
    "        lefthalf = arr[:mid]\n",
    "        righthalf=arr[mid:]\n",
    "        \n",
    "        mergesort(lefthalf)\n",
    "        mergesort(righthalf)\n",
    "        \n",
    "        i=0\n",
    "        j=0\n",
    "        k=0\n",
    "        \n",
    "        while i < len(lefthalf) and j < len(righthalf):\n",
    "            if lefthalf[i] < righthalf[j]:\n",
    "                arr[k]=lefthalf[i]\n",
    "                i+=1\n",
    "                \n",
    "            else:\n",
    "                arr[k]=righthalf[j]\n",
    "                j+=1\n",
    "                \n",
    "            k+=1\n",
    "            \n",
    "        while i < len(lefthalf):\n",
    "            arr[k] = lefthalf[i]\n",
    "            i+=1\n",
    "            k+=1\n",
    "            \n",
    "        while j < len(righthalf):\n",
    "            arr[k] = righthalf[j]\n",
    "            j+=1\n",
    "            k+=1"
   ]
  },
  {
   "cell_type": "code",
   "execution_count": 11,
   "metadata": {},
   "outputs": [
    {
     "data": {
      "text/plain": [
       "[1, 3, 3, 4, 7, 9, 10]"
      ]
     },
     "execution_count": 11,
     "metadata": {},
     "output_type": "execute_result"
    }
   ],
   "source": [
    "arr= [3,7,1,9,3,10,4]\n",
    "mergesort(arr)\n",
    "arr"
   ]
  },
  {
   "cell_type": "code",
   "execution_count": 12,
   "metadata": {},
   "outputs": [],
   "source": [
    "# divide and conquer,does not require additional storage\n",
    "def quicksort(arr):\n",
    "    quicksorthelp(arr,0,len(arr) -1)\n",
    "        \n",
    "\n",
    "def quicksorthelp(arr,first,last):\n",
    "    if first < last:\n",
    "        splitpoint = partition(arr,first,last)\n",
    "        quicksorthelp(arr,first,splitpoint-1)\n",
    "        quicksorthelp(arr,splitpoint +1, last)\n",
    "\n",
    "def partition(arr,first,last):\n",
    "    pivotvalue=arr[first]\n",
    "    \n",
    "    leftmark = first +1\n",
    "    rightmark = last\n",
    "    \n",
    "    done =False\n",
    "       \n",
    "    while not done:\n",
    "        while leftmark <=rightmark and arr[leftmark] <=pivotvalue:\n",
    "            leftmark+=1\n",
    "            \n",
    "        while rightmark >=leftmark and arr[rightmark] >= pivotvalue:\n",
    "            rightmark -=1\n",
    "            \n",
    "        if rightmark<leftmark:\n",
    "            done = True\n",
    "            \n",
    "        else :\n",
    "            temp = arr[leftmark]\n",
    "            arr[leftmark]=arr[rightmark]\n",
    "            arr[rightmark] = temp\n",
    "                \n",
    "    temp = arr[first]\n",
    "    arr[first] = arr[rightmark]\n",
    "    arr[rightmark] = temp            \n",
    "                \n",
    "    return rightmark"
   ]
  },
  {
   "cell_type": "code",
   "execution_count": 13,
   "metadata": {},
   "outputs": [
    {
     "data": {
      "text/plain": [
       "[1, 3, 3, 4, 7, 9, 10]"
      ]
     },
     "execution_count": 13,
     "metadata": {},
     "output_type": "execute_result"
    }
   ],
   "source": [
    "arr= [3,7,1,9,3,10,4]\n",
    "quicksort(arr)\n",
    "arr"
   ]
  },
  {
   "cell_type": "code",
   "execution_count": 14,
   "metadata": {},
   "outputs": [],
   "source": [
    "class HashTable(object):\n",
    "    \n",
    "    def __init__(self,size):\n",
    "        self.size = size\n",
    "        self.slot= [None] * self.size\n",
    "        self.data = [None] * self.size\n",
    "        \n",
    "    def put(self,key,data) :\n",
    "        hashvalue = self.hashfunction(key,len(self.slot))\n",
    "        # if slot is empty\n",
    "        if self.slot[hashvalue] == None:\n",
    "            self.slot[hashvalue] = key\n",
    "            self.data[hashvalue] = data\n",
    "            \n",
    "        else :\n",
    "            # if key exists, replace old value with new data\n",
    "            if self.slots[hashvalue] == key:\n",
    "                self.data[hashvalue] = data\n",
    "            else:\n",
    "                # find next available slot\n",
    "                nextslot = self.rehash(hashvalue,len(self,slot))\n",
    "                while self.slot[nextslot]!= None and self.slot[nextslot]!=key :\n",
    "                    nextslot = self.rehash(nextslot,len(self.slot))\n",
    "                 # set new key   \n",
    "                if self.slot[nextslot] == None:\n",
    "                    self.slot[nextslot] = key\n",
    "                    self.data[nextslot] = data\n",
    "                else :\n",
    "                    # replace old value with new value dat\n",
    "                    self.data[nextslot] =data\n",
    "        \n",
    "    def hashfunction(self,key,size):\n",
    "        # remainder method\n",
    "        return key % size\n",
    "    \n",
    "    def rehash(self,oldhash,size):\n",
    "        return (oldhash +1) % size\n",
    "    \n",
    "    def get(self,key):\n",
    "        startslot = self.hashfunction(key,len(self.slot))\n",
    "        data = None\n",
    "        stop = False\n",
    "        position =startslot\n",
    "        found = False\n",
    "        \n",
    "        while self.slot[position]!= None and not found and not stop:\n",
    "            if self.slot[position] == key:\n",
    "                found = True\n",
    "                data = self.data[position]\n",
    "            else:\n",
    "                position = self.rehash(position,len(self.slot))\n",
    "                if position == startslot:\n",
    "                    stop = True\n",
    "        return data\n",
    "        \n",
    "    def __getitem__(self,key):\n",
    "        return self.get(key)\n",
    "    \n",
    "    \n",
    "    def __setitem__(self,key,data):\n",
    "        self.put(key,data)"
   ]
  },
  {
   "cell_type": "code",
   "execution_count": 15,
   "metadata": {},
   "outputs": [],
   "source": [
    "h = HashTable(5)"
   ]
  },
  {
   "cell_type": "code",
   "execution_count": 16,
   "metadata": {},
   "outputs": [],
   "source": [
    "h[1] = 'one'\n",
    "h[2]= 'two'\n",
    "h[3]='three'"
   ]
  },
  {
   "cell_type": "code",
   "execution_count": 17,
   "metadata": {},
   "outputs": [],
   "source": [
    "def binarySearch(arr,ele):\n",
    "    arr=sorted(arr)\n",
    "    length = len(arr)\n",
    "    found = False\n",
    "    first = 0\n",
    "    last = length - 1\n",
    "    while first <= last and not  found:\n",
    "        \n",
    "        mid = (first+last)//2\n",
    "        \n",
    "        if ele == arr[mid]:\n",
    "            found =True\n",
    "        else:\n",
    "            if ele < arr[mid]:\n",
    "                last = mid -1\n",
    "            else:\n",
    "                first = mid + 1\n",
    "            \n",
    "    if found:\n",
    "        print(\"ele = {} found in arr = {} at index= {}\".format(ele,arr,mid))\n",
    "    return found"
   ]
  },
  {
   "cell_type": "code",
   "execution_count": 18,
   "metadata": {},
   "outputs": [
    {
     "name": "stdout",
     "output_type": "stream",
     "text": [
      "ele = 7 found in arr = [1, 2, 4, 5, 6, 7, 9] at index= 5\n"
     ]
    },
    {
     "data": {
      "text/plain": [
       "True"
      ]
     },
     "execution_count": 18,
     "metadata": {},
     "output_type": "execute_result"
    }
   ],
   "source": [
    "binarySearch([1,6,2,7,4,9,5],7)"
   ]
  },
  {
   "cell_type": "code",
   "execution_count": 19,
   "metadata": {},
   "outputs": [],
   "source": [
    "def binRecur(arr,ele):\n",
    "    \n",
    "    if len(arr) ==0:\n",
    "        return False\n",
    "    else:\n",
    "        mid = len(arr)//2\n",
    "        if arr[mid] == ele:\n",
    "            print(\"ele = {} found in arr\".format(ele))\n",
    "            return True\n",
    "        else:\n",
    "            if ele < arr[mid]:\n",
    "                return binRecur(arr[:mid],ele)\n",
    "            else:\n",
    "                return binRecur(arr[mid +1:],ele)"
   ]
  },
  {
   "cell_type": "code",
   "execution_count": 20,
   "metadata": {},
   "outputs": [
    {
     "name": "stdout",
     "output_type": "stream",
     "text": [
      "ele = 1 found in arr\n"
     ]
    },
    {
     "data": {
      "text/plain": [
       "True"
      ]
     },
     "execution_count": 20,
     "metadata": {},
     "output_type": "execute_result"
    }
   ],
   "source": [
    "binRecur([1, 2, 4, 5, 6, 7, 9],1)"
   ]
  },
  {
   "cell_type": "code",
   "execution_count": null,
   "metadata": {},
   "outputs": [],
   "source": []
  }
 ],
 "metadata": {
  "kernelspec": {
   "display_name": "Python 3",
   "language": "python",
   "name": "python3"
  },
  "language_info": {
   "codemirror_mode": {
    "name": "ipython",
    "version": 3
   },
   "file_extension": ".py",
   "mimetype": "text/x-python",
   "name": "python",
   "nbconvert_exporter": "python",
   "pygments_lexer": "ipython3",
   "version": "3.6.4"
  }
 },
 "nbformat": 4,
 "nbformat_minor": 2
}
